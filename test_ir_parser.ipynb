{
 "cells": [
  {
   "cell_type": "code",
   "execution_count": 1,
   "metadata": {},
   "outputs": [],
   "source": [
    "import re\n",
    "import os\n",
    "import sys\n",
    "import json\n",
    "import random\n",
    "from importlib import reload\n",
    "\n",
    "random.seed(666)"
   ]
  },
  {
   "cell_type": "code",
   "execution_count": 2,
   "metadata": {},
   "outputs": [],
   "source": [
    "# new data\n",
    "train_data = json.load(open(\"./dataset_new/train.json\"))\n",
    "train_sparql = [item['sparql'] for item in train_data]\n",
    "train_program = [item['program'] for item in train_data]"
   ]
  },
  {
   "cell_type": "code",
   "execution_count": 3,
   "metadata": {},
   "outputs": [],
   "source": [
    "import KqaPro_Parser.program_v2.ProgramIRTranslator\n",
    "reload(KqaPro_Parser.program_v2.ProgramIRTranslator)\n",
    "from KqaPro_Parser.program_v2.ProgramIRTranslator import IR_translator\n",
    "translator = IR_translator()\n",
    "\n",
    "def gen_ir(i):\n",
    "    ir = translator.program_to_ir(i)\n",
    "    for token in [\"<E>\",\"</E>\",\"<ES>\",\"</ES>\",\"<A>\",\"</A>\",\"<R>\",\"</R>\",\"<V>\",\"</V>\",\"<Q>\",\"</Q>\",\"<C>\",\"</C>\"]:\n",
    "        ir = ir.replace(\" {}\".format(token), token)\n",
    "        ir = ir.replace(\"{} \".format(token), token)\n",
    "    return ir"
   ]
  },
  {
   "cell_type": "code",
   "execution_count": 4,
   "metadata": {},
   "outputs": [],
   "source": [
    "# cfq_parser = sparql_parser.KqaParser(train_sparql)\n",
    "ir_list = []\n",
    "for point in train_program:\n",
    "    ir = gen_ir(point)\n",
    "    ir_list.append(ir)\n",
    "    "
   ]
  },
  {
   "cell_type": "code",
   "execution_count": 5,
   "metadata": {},
   "outputs": [],
   "source": [
    "# for i, t in zip(ir_list, train_data):\n",
    "#     if \"which one has the smallest<A>area</A>among<ES><C>independent city</C></ES>\" in i:\n",
    "#         print(i)\n",
    "#         print(t[\"origin\"])\n",
    "#         print(t[\"sparql\"])\n",
    "#         print(\"\\n\")\n",
    "        "
   ]
  },
  {
   "cell_type": "code",
   "execution_count": 2,
   "metadata": {},
   "outputs": [],
   "source": [
    "import KqaPro_Parser.CallIRParser\n",
    "reload(KqaPro_Parser.CallIRParser)\n",
    "from KqaPro_Parser.CallIRParser import ParsingIR\n",
    "parser = ParsingIR()"
   ]
  },
  {
   "cell_type": "code",
   "execution_count": 5,
   "metadata": {},
   "outputs": [
    {
     "name": "stderr",
     "output_type": "stream",
     "text": [
      "line 1:70 mismatched input '<C>' expecting {'ones', '<ES>', '<E>'}\n"
     ]
    }
   ],
   "source": [
    "parser.parse('''what is<ES><E>entity1</E>that<R>cast member</R>backward to more than 2<C>concept1</C></ES>''')\n",
    "    "
   ]
  },
  {
   "cell_type": "code",
   "execution_count": 10,
   "metadata": {},
   "outputs": [
    {
     "data": {
      "text/plain": [
       "[]"
      ]
     },
     "execution_count": 10,
     "metadata": {},
     "output_type": "execute_result"
    }
   ],
   "source": [
    "parser.err_ir[:10]"
   ]
  },
  {
   "cell_type": "code",
   "execution_count": 13,
   "metadata": {},
   "outputs": [],
   "source": [
    "class entitySet(str):\n",
    "    def __new__(self, value=None, concept=None):\n",
    "        self.concept = concept\n",
    "        return str.__new__(self, value)"
   ]
  },
  {
   "cell_type": "code",
   "execution_count": 22,
   "metadata": {},
   "outputs": [],
   "source": [
    "a = entitySet()"
   ]
  },
  {
   "cell_type": "code",
   "execution_count": 27,
   "metadata": {},
   "outputs": [
    {
     "data": {
      "text/plain": [
       "True"
      ]
     },
     "execution_count": 27,
     "metadata": {},
     "output_type": "execute_result"
    }
   ],
   "source": [
    "hasattr(a, \"concept\")"
   ]
  }
 ],
 "metadata": {
  "interpreter": {
   "hash": "1f5681733fccbefcbca5a4e9f72189d3e93347784ed9242ac090fa102fe5e7d6"
  },
  "kernelspec": {
   "display_name": "Python 3.7.7 64-bit ('base': conda)",
   "name": "python3"
  },
  "language_info": {
   "codemirror_mode": {
    "name": "ipython",
    "version": 3
   },
   "file_extension": ".py",
   "mimetype": "text/x-python",
   "name": "python",
   "nbconvert_exporter": "python",
   "pygments_lexer": "ipython3",
   "version": "3.7.7"
  },
  "orig_nbformat": 4
 },
 "nbformat": 4,
 "nbformat_minor": 2
}
