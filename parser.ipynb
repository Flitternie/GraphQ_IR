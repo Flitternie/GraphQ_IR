{
 "cells": [
  {
   "cell_type": "code",
   "execution_count": 2,
   "metadata": {},
   "outputs": [],
   "source": [
    "import re\n",
    "import json\n",
    "import random\n",
    "from importlib import reload\n",
    "\n",
    "random.seed(42)"
   ]
  },
  {
   "cell_type": "code",
   "execution_count": 4,
   "metadata": {},
   "outputs": [],
   "source": [
    "val_data = json.load(open(\"./full_dataset/val.json\"))\n",
    "val_sparql = [item['sparql'] for item in val_data]"
   ]
  },
  {
   "cell_type": "code",
   "execution_count": 39,
   "metadata": {},
   "outputs": [],
   "source": [
    "import sparql_parser\n",
    "sparql_parser = reload(sparql_parser)\n",
    "parser = sparql_parser.KqaParser(val_sparql)"
   ]
  },
  {
   "cell_type": "code",
   "execution_count": 13,
   "metadata": {},
   "outputs": [
    {
     "name": "stdout",
     "output_type": "stream",
     "text": [
      "11797\n",
      "0 4906 204\n"
     ]
    }
   ],
   "source": [
    "err_items = []\n",
    "false_items = []\n",
    "uncap_items = []\n",
    "print(len(val_sparql))\n",
    "for idx, item in enumerate(val_sparql):\n",
    "    try:\n",
    "        orig = parser.sparqls[idx].replace(\" \", \"\")\n",
    "        rir = parser.f_reversible(parser.sparqls[idx])\n",
    "        if rir.replace(\" \", \"\") == orig:\n",
    "            uncap_items.append(item)\n",
    "        inverse_rir = parser.f_reversible_inverse(rir)\n",
    "        if inverse_rir.replace(\" \", \"\") != orig:\n",
    "            false_items.append(item)\n",
    "    except:\n",
    "        err_items.append(item)\n",
    "print(len(err_items), len(uncap_items), len(false_items))"
   ]
  },
  {
   "cell_type": "code",
   "execution_count": null,
   "metadata": {},
   "outputs": [],
   "source": [
    "for item in false_items[:5]:\n",
    "    rir = parser.f_reversible(item)\n",
    "    inverse_rir = parser.f_reversible_inverse(rir)\n",
    "    print(item+\"\\n\\n\"+inverse_rir+\"\\n***\")"
   ]
  },
  {
   "cell_type": "code",
   "execution_count": 40,
   "metadata": {},
   "outputs": [
    {
     "name": "stdout",
     "output_type": "stream",
     "text": [
      "SELECT DISTINCT ?qpv WHERE { ?e_1 <pred:name> \"Mrs. Miniver\" . ?e_2 <pred:name> \"Academy Award for Best Writing, Adapted Screenplay\" . ?e_1 <award_received> ?e_2 . [ <pred:fact_h> ?e_1 ; <pred:fact_r> <award_received> ; <pred:fact_t> ?e_2 ] <statement_is_subject_of> ?qpv .  }\n",
      "\n",
      "SELECT DISTINCT var WHERE { var <pred:name> var . var <pred:name> var . var <award_received> var . [ <pred:fact_h> var ; <pred:fact_r> <award_received> ; <pred:fact_t> var ] <statement_is_subject_of> var .  }\n",
      "***\n",
      "\n",
      "SELECT (COUNT(DISTINCT ?e) AS ?count) WHERE { ?e <pred:instance_of> ?c . ?c <pred:name> \"county of Pennsylvania\" .  { ?e <population> ?pv . ?pv <pred:unit> \"1\" . ?pv <pred:value> ?v . FILTER ( ?v > \"7800\"^^xsd:double ) .  } UNION { ?e <population> ?pv . ?pv <pred:unit> \"1\" . ?pv <pred:value> ?v . FILTER ( ?v < \"40000000\"^^xsd:double ) .  } }\n",
      "\n",
      "SELECT (COUNT(DISTINCT var) AS var) WHERE { var <pred:instance_of> var . var <pred:name> var .  { var <population> var . var <pred:unit> var . var <pred:value> var . FILTER ( var > var^^xsd:double ) .  } UNION { var <population> var . var <pred:unit> var . var <pred:value> var . FILTER ( var < var^^xsd:double ) .  } }\n",
      "***\n",
      "\n",
      "SELECT (COUNT(DISTINCT ?e) AS ?count) WHERE { ?e <pred:instance_of> ?c . ?c <pred:name> \"musical composition\" . ?e <title> ?pv . ?pv <pred:value> \"Yellow Submarine\" .  }\n",
      "\n",
      "SELECT (COUNT(DISTINCT var) AS var) WHERE { var <pred:instance_of> var . var <pred:name> var . var <title> var . var <pred:value> var .  }\n",
      "***\n",
      "\n",
      "SELECT DISTINCT ?p WHERE { ?e_1 <pred:name> \"Jewel\" . ?e_1 <title> ?pv . ?pv <pred:value> \"Jewel\" . ?e_2 <pred:name> \"English\" . ?e_1 ?p ?e_2 .  }\n",
      "\n",
      "SELECT DISTINCT var WHERE { var <pred:name> var . var <title> var . var <pred:value> var . var <pred:name> var . var var var .  }\n",
      "***\n",
      "\n",
      "ASK { ?e <pred:name> \"Bridget Jones's Diary\" . ?e <exploitation_visa_number> ?pv . ?pv <pred:value> \"129586\" .  }\n",
      "\n",
      "ASK { var <pred:name> var . var <exploitation_visa_number> var . var <pred:value> var .  }\n",
      "***\n",
      "\n"
     ]
    }
   ],
   "source": [
    "for item in val_sparql[:5]:\n",
    "    print(item+\"\\n\")\n",
    "    print(parser.f_lossy(item, is_rir=False))\n",
    "    print(\"***\\n\")"
   ]
  }
 ],
 "metadata": {
  "kernelspec": {
   "display_name": "Python 3.7.7 64-bit ('base': conda)",
   "name": "python377jvsc74a57bd0e98bfd0d95dd0b437f7ae5c613bc8c0652b208d48ecee3970c89a3d80a03440a"
  },
  "language_info": {
   "codemirror_mode": {
    "name": "ipython",
    "version": 3
   },
   "file_extension": ".py",
   "mimetype": "text/x-python",
   "name": "python",
   "nbconvert_exporter": "python",
   "pygments_lexer": "ipython3",
   "version": "3.7.7"
  },
  "metadata": {
   "interpreter": {
    "hash": "e98bfd0d95dd0b437f7ae5c613bc8c0652b208d48ecee3970c89a3d80a03440a"
   }
  },
  "orig_nbformat": 2
 },
 "nbformat": 4,
 "nbformat_minor": 2
}