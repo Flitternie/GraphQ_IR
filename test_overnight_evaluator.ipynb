{
 "cells": [
  {
   "cell_type": "code",
   "execution_count": null,
   "metadata": {},
   "outputs": [],
   "source": [
    "from data.overnight.domain.domain_base import Domain\n",
    "import re\n",
    "import tempfile\n",
    "import subprocess"
   ]
  },
  {
   "cell_type": "code",
   "execution_count": null,
   "metadata": {},
   "outputs": [],
   "source": [
    "overnight_domains = ['basketball', 'blocks', 'calendar', 'housing', 'publications', 'recipes', 'restaurants', 'socialnetwork']"
   ]
  },
  {
   "cell_type": "code",
   "execution_count": null,
   "metadata": {},
   "outputs": [],
   "source": [
    "def read_data(path, domain_idx):\n",
    "    ex_list = []\n",
    "    with open(path, 'r') as infile:\n",
    "        lines = [line.strip() for line in infile]\n",
    "        for i in range(len(lines))[::8]:\n",
    "            ex = {}\n",
    "            ex['q'] = re.findall(r'''\\\"(.*?)\\\"''',lines[i+1])[0]\n",
    "            ex['tir'] = re.findall(r'''\\\"(.*?)\\\"''',lines[i+2])[0]\n",
    "            ex['lamb'] = lines[i+4].strip()\n",
    "            ex['domain'] = domain_idx\n",
    "            ex_list.append(ex)\n",
    "    return ex_list"
   ]
  },
  {
   "cell_type": "code",
   "execution_count": null,
   "metadata": {},
   "outputs": [],
   "source": [
    "ex_list = []\n",
    "for idx, domain in enumerate(overnight_domains):\n",
    "    ex_list += read_data('../sempre/lib/data/overnight/{}.paraphrases.test.examples'.format(domain), idx)\n",
    "# test_inputs = [i['q'] for i in ex_list]\n",
    "# test_targets = [i['tir'] for i in ex_list]\n",
    "# test_lambs = [i['lamb'] for i in ex_list]\n",
    "test_domains = [i['domain'] for i in ex_list]"
   ]
  },
  {
   "cell_type": "code",
   "execution_count": null,
   "metadata": {},
   "outputs": [],
   "source": [
    "test_preds = []\n",
    "test_golds = []\n",
    "with open(\"./lambda_results.txt\") as f:\n",
    "    for line in f:\n",
    "        test_preds.append(line.strip())\n",
    "with open(\"./lambda_golds.txt\") as f:\n",
    "    for line in f:\n",
    "        test_golds.append(line.strip())"
   ]
  },
  {
   "cell_type": "code",
   "execution_count": null,
   "metadata": {},
   "outputs": [],
   "source": [
    "def read_data(path):\n",
    "    ex_list = []\n",
    "    with open(path, 'r') as infile:\n",
    "        for line in infile:\n",
    "            line = line.strip()\n",
    "            if line == '':\n",
    "                continue\n",
    "            q, lf = line.split('\\t')\n",
    "            ex_list.append({\"q\": q.strip(), \"lf\": lf.strip()})\n",
    "    return ex_list"
   ]
  },
  {
   "cell_type": "code",
   "execution_count": null,
   "metadata": {},
   "outputs": [],
   "source": [
    "test_gold = []\n",
    "for domain in overnight_domains:\n",
    "    test_gold += [i['lf'] for i in read_data(\"./data/overnight/dataset/{}_test.tsv\".format(domain))]"
   ]
  },
  {
   "cell_type": "code",
   "execution_count": null,
   "metadata": {},
   "outputs": [],
   "source": [
    "wrong_pairs = []\n",
    "count = 0\n",
    "assert len(test_domains) == len(test_preds) == len(test_golds) == len(test_gold)\n",
    "for p, g, i, d in zip(test_preds, test_golds, test_inputs, test_domains):\n",
    "    # p = p.replace(\"!\", \" !\").replace(\".size\", \" .size\")\n",
    "    if p != g:\n",
    "        print(len(wrong_pairs))\n",
    "        wrong_pairs.append((d, [p,g]))\n",
    "        print(\"input:\\t\", i)   \n",
    "        print(\"pred:\\t\", p)\n",
    "        print(\"gold:\\t\", g)\n",
    "        print(\"\\n\")\n",
    "# print(\"wrong_pairs:\", len(wrong_pairs))\n",
    "# print(\"acc:\", 1 - len(wrong_pairs) / len(test_preds))"
   ]
  },
  {
   "cell_type": "code",
   "execution_count": null,
   "metadata": {},
   "outputs": [],
   "source": [
    "def format_overnight(lf):\n",
    "    replacements = [\n",
    "        ('(', ' ( '), # make sure ( and ) must have blank space around\n",
    "        (')', ' ) '),\n",
    "        ('! ', '!'),\n",
    "        ('SW', 'edu.stanford.nlp.sempre.overnight.SimpleWorld'),\n",
    "    ]\n",
    "    for a, b in replacements:\n",
    "        lf = lf.replace(a, b)\n",
    "    # remove redundant blank spaces\n",
    "    lf = re.sub(' +', ' ', lf)\n",
    "    return lf.strip()\n",
    "\n",
    "def normalize(lf_list):\n",
    "    return [format_overnight(lf) for lf in lf_list]\n",
    "\n",
    "def obtain_denotations(lf_list, domain):\n",
    "    tf = tempfile.NamedTemporaryFile('w+t', encoding='utf8', suffix='.examples')\n",
    "    for line in lf_list:\n",
    "        tf.write(line + '\\n')\n",
    "    tf.flush()\n",
    "    msg = subprocess.check_output(['./evaluator/overnight', domain, tf.name])\n",
    "    msg = msg.decode('utf8')\n",
    "    tf.close()\n",
    "    denotations = [\n",
    "        line.split('\\t')[1] for line in msg.split('\\n')\n",
    "        if line.startswith('targetValue\\t')\n",
    "    ]\n",
    "    return denotations"
   ]
  },
  {
   "cell_type": "code",
   "execution_count": null,
   "metadata": {},
   "outputs": [],
   "source": [
    "def is_valid(ans):\n",
    "    return not ('BADJAVA' in ans or 'ERROR' in ans or 'Exception' in ans or ans == 'null')"
   ]
  },
  {
   "cell_type": "code",
   "execution_count": null,
   "metadata": {},
   "outputs": [],
   "source": [
    "normalize(x[1])"
   ]
  },
  {
   "cell_type": "code",
   "execution_count": null,
   "metadata": {},
   "outputs": [],
   "source": [
    "x = wrong_pairs[505]\n",
    "ans = obtain_denotations(normalize(x[1]), overnight_domains[x[0]])\n",
    "print(ans[0])\n",
    "print(ans[1])"
   ]
  }
 ],
 "metadata": {
  "interpreter": {
   "hash": "1f5681733fccbefcbca5a4e9f72189d3e93347784ed9242ac090fa102fe5e7d6"
  },
  "kernelspec": {
   "display_name": "Python 3.7.7 64-bit ('base': conda)",
   "name": "python3"
  },
  "language_info": {
   "codemirror_mode": {
    "name": "ipython",
    "version": 3
   },
   "file_extension": ".py",
   "mimetype": "text/x-python",
   "name": "python",
   "nbconvert_exporter": "python",
   "pygments_lexer": "ipython3",
   "version": "3.7.7"
  },
  "orig_nbformat": 4
 },
 "nbformat": 4,
 "nbformat_minor": 2
}
