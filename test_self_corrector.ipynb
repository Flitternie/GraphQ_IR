{
 "cells": [
  {
   "cell_type": "code",
   "execution_count": 1,
   "metadata": {},
   "outputs": [
    {
     "name": "stderr",
     "output_type": "stream",
     "text": [
      "2021-11-17 20:36:29.871256: I tensorflow/stream_executor/platform/default/dso_loader.cc:49] Successfully opened dynamic library libcudart.so.11.0\n"
     ]
    }
   ],
   "source": [
    "import os\n",
    "import json\n",
    "import pickle\n",
    "import argparse\n",
    "import numpy as np\n",
    "from nltk import word_tokenize\n",
    "from collections import Counter\n",
    "from itertools import chain\n",
    "from tqdm import tqdm\n",
    "import re\n",
    "\n",
    "from bart2ir.predict import prepare\n",
    "from IR_unified.self_correct import IRCorrector\n",
    "\n",
    "from utils.misc import init_vocab\n",
    "from transformers import *"
   ]
  },
  {
   "cell_type": "code",
   "execution_count": 5,
   "metadata": {},
   "outputs": [],
   "source": [
    "class arg:\n",
    "    def __init__(self):\n",
    "        self.h = 'help'\n",
    "args = arg()"
   ]
  },
  {
   "cell_type": "code",
   "execution_count": 6,
   "metadata": {},
   "outputs": [],
   "source": [
    "args.data_dir = \"./dataset_new/\"\n",
    "args.input_dir = \"./exp_files_new/UIR/full/\"\n",
    "args.batch_size = 16\n",
    "args.model_name_or_path = \"./bart-base/\"\n",
    "args.ckpt = \"./exp_results_new/UIR/full/checkpoint-best\"\n"
   ]
  },
  {
   "cell_type": "code",
   "execution_count": 8,
   "metadata": {},
   "outputs": [
    {
     "name": "stdout",
     "output_type": "stream",
     "text": [
      "Preparing val data.........\n"
     ]
    },
    {
     "name": "stderr",
     "output_type": "stream",
     "text": [
      "100%|██████████| 738/738 [05:39<00:00,  2.34it/s]\n",
      "2021-11-17 20:46:56,322 INFO     accuracy: 0.8411460540815462, bleu: 0.9827882544076969\n"
     ]
    }
   ],
   "source": [
    "\n",
    "vocab = {\n",
    "    'answer_token_to_idx': {}\n",
    "}   \n",
    "\n",
    "train_set = json.load(open(os.path.join(args.data_dir, 'train.json')))\n",
    "val_set = json.load(open(os.path.join(args.data_dir, 'val.json')))\n",
    "test_set = json.load(open(os.path.join(args.data_dir, 'test.json')))\n",
    "\n",
    "tokenizer = BartTokenizer.from_pretrained(args.model_name_or_path)\n",
    "ir_corrector = IRCorrector()\n",
    "\n",
    "for question in chain(train_set, val_set, test_set):\n",
    "    for a in question['choices']:\n",
    "        if not a in vocab['answer_token_to_idx']:\n",
    "            vocab['answer_token_to_idx'][a] = len(vocab['answer_token_to_idx'])\n",
    "\n",
    "ir = [line.strip() for line in prepare(\"val\", args)]\n"
   ]
  }
 ],
 "metadata": {
  "interpreter": {
   "hash": "1f5681733fccbefcbca5a4e9f72189d3e93347784ed9242ac090fa102fe5e7d6"
  },
  "kernelspec": {
   "display_name": "Python 3.7.7 64-bit ('base': conda)",
   "name": "python3"
  },
  "language_info": {
   "codemirror_mode": {
    "name": "ipython",
    "version": 3
   },
   "file_extension": ".py",
   "mimetype": "text/x-python",
   "name": "python",
   "nbconvert_exporter": "python",
   "pygments_lexer": "ipython3",
   "version": "3.7.7"
  },
  "orig_nbformat": 4
 },
 "nbformat": 4,
 "nbformat_minor": 2
}
