{
 "cells": [
  {
   "cell_type": "code",
   "execution_count": 1,
   "metadata": {},
   "outputs": [],
   "source": [
    "import re\n",
    "import os\n",
    "import sys\n",
    "import json\n",
    "import random\n",
    "from importlib import reload\n",
    "\n",
    "from bart2query.sparql.predict import whether_equal, post_process\n",
    "from tqdm import tqdm\n",
    "from bart2query.sparql.sparql_engine import get_sparql_answer\n",
    "\n",
    "random.seed(666)"
   ]
  },
  {
   "cell_type": "code",
   "execution_count": null,
   "metadata": {},
   "outputs": [],
   "source": [
    "# new data\n",
    "train_data = json.load(open(\"./dataset_new/train.json\"))\n",
    "train_sparql = [item['sparql'] for item in train_data]\n",
    "train_program = [item['program'] for item in train_data]"
   ]
  },
  {
   "cell_type": "code",
   "execution_count": null,
   "metadata": {},
   "outputs": [],
   "source": [
    "test_data = json.load(open(\"./dataset_new/test.json\"))\n",
    "test_sparql = [item['sparql'] for item in test_data]\n",
    "test_program = [item['program'] for item in test_data]"
   ]
  },
  {
   "cell_type": "code",
   "execution_count": 2,
   "metadata": {},
   "outputs": [],
   "source": [
    "def gen_ir(ir):\n",
    "    for token in [\"<E>\",\"</E>\",\"<ES>\",\"</ES>\",\"<A>\",\"</A>\",\"<R>\",\"</R>\",\"<V>\",\"</V>\",\"<Q>\",\"</Q>\",\"<C>\",\"</C>\"]:\n",
    "        ir = ir.replace(\" {}\".format(token), token)\n",
    "        ir = ir.replace(\"{} \".format(token), token)\n",
    "    return ir"
   ]
  },
  {
   "cell_type": "code",
   "execution_count": 3,
   "metadata": {},
   "outputs": [],
   "source": [
    "import KqaPro_Parser.ir.SparqlTranslator\n",
    "from KqaPro_Parser.ir.SparqlTranslator import Sparql_translator\n",
    "sparql_translator = Sparql_translator()"
   ]
  },
  {
   "cell_type": "code",
   "execution_count": 6,
   "metadata": {},
   "outputs": [
    {
     "name": "stderr",
     "output_type": "stream",
     "text": [
      "line 1:45 no viable alternative at input 'whose<A>attr1</A>islarger than'\n"
     ]
    },
    {
     "data": {
      "text/plain": [
       "'SELECT DISTINCT ?e WHERE { ?e <pred:name> \"entity1\" . ?e <> ?pv . ?pv <pred:value> \"\" .  }'"
      ]
     },
     "execution_count": 6,
     "metadata": {},
     "output_type": "execute_result"
    }
   ],
   "source": [
    "ir = '''what is<ES><E>entity1</E>whose<A>attr1</A>is larger than<A>attr2</A>of<E>entity2</E></ES>'''\n",
    "sparql_translator.ir_to_sparql(gen_ir(ir))"
   ]
  },
  {
   "cell_type": "code",
   "execution_count": null,
   "metadata": {},
   "outputs": [],
   "source": [
    "from utils.load_kb import DataForSPARQL\n",
    "from utils.data import DataLoader\n",
    "\n",
    "# input_dir = \"./exp_files_new/UIR/full/end2end/sparql/\"\n",
    "# vocab_json = os.path.join(input_dir, 'vocab.json')\n",
    "# data = os.path.join(input_dir, 'train.pt')\n",
    "# data = DataLoader(vocab_json, data, 128)\n",
    "kb = DataForSPARQL(os.path.join(\"./dataset_new/\", 'kb.json'))"
   ]
  },
  {
   "cell_type": "code",
   "execution_count": null,
   "metadata": {},
   "outputs": [],
   "source": [
    "pred_ir = []\n",
    "total, correct = 0, 0\n",
    "with open(\"./ir_results.txt\") as f:\n",
    "    for line in f:\n",
    "        line = line.strip()\n",
    "        pred_ir.append(gen_ir(line))\n"
   ]
  },
  {
   "cell_type": "code",
   "execution_count": null,
   "metadata": {},
   "outputs": [],
   "source": [
    "from IR_unified.self_correct import IRCorrector\n",
    "ir_corrector = IRCorrector()\n",
    "# corrected_pred_ir = [ir_corrector.self_correct(ir) for ir in pred_ir]"
   ]
  },
  {
   "cell_type": "code",
   "execution_count": null,
   "metadata": {},
   "outputs": [],
   "source": [
    "pred_sparql = []\n",
    "correct_pred_sparql = []\n",
    "grammar_wrong_irs = []\n",
    "for ir, i in zip(pred_ir, test_data):\n",
    "    pred_sparql.append(sparql_translator.ir_to_sparql(ir))\n",
    "    \n",
    "    correct_ir = ir_corrector.self_correct(ir)\n",
    "    correct_pred_sparql.append(sparql_translator.ir_to_sparql(correct_ir))"
   ]
  },
  {
   "cell_type": "code",
   "execution_count": null,
   "metadata": {},
   "outputs": [],
   "source": [
    "total, correct = 0, 0\n",
    "true_false = []\n",
    "false_true = []\n",
    "false_false = []\n",
    "\n",
    "for pred, gold, correct_pred in tqdm(zip(pred_sparql, test_sparql, correct_pred_sparql)):\n",
    "    pred_res = get_sparql_answer(pred, kb)\n",
    "    gold_res = get_sparql_answer(gold, kb)\n",
    "    is_match = whether_equal(gold_res, pred_res)\n",
    "\n",
    "    correct_pred_res = get_sparql_answer(correct_pred, kb)\n",
    "    correct_match = whether_equal(gold_res, correct_pred_res)\n",
    "\n",
    "    if is_match:\n",
    "        if correct_match:\n",
    "            correct += 1\n",
    "        else:\n",
    "            true_false.append((pred, gold, correct_pred))\n",
    "    else:\n",
    "        if correct_match:\n",
    "            false_true.append((pred, gold, correct_pred))\n",
    "        else:\n",
    "            false_false.append((pred, gold, correct_pred))\n",
    "            \n",
    "    total += 1\n",
    "print(\"IR: {}/{}\".format(correct, total))"
   ]
  },
  {
   "cell_type": "code",
   "execution_count": null,
   "metadata": {},
   "outputs": [],
   "source": [
    "to_fixed = []\n",
    "for i in false_false:\n",
    "    to_fixed.append(list(i).append(test_data[test_sparql.index(i[1])][\"rewrite\"]))"
   ]
  },
  {
   "cell_type": "code",
   "execution_count": null,
   "metadata": {},
   "outputs": [],
   "source": [
    "sum([int(pred != correct_pred) for pred, correct_pred in zip(pred_sparql, correct_pred_sparql)])"
   ]
  },
  {
   "cell_type": "code",
   "execution_count": null,
   "metadata": {},
   "outputs": [],
   "source": [
    "len(true_false), len(false_true), len(false_false)"
   ]
  },
  {
   "cell_type": "code",
   "execution_count": null,
   "metadata": {},
   "outputs": [],
   "source": [
    "import KqaPro_Parser.program_v2.ProgramIRTranslator\n",
    "reload(KqaPro_Parser.program_v2.ProgramIRTranslator)\n",
    "from KqaPro_Parser.program_v2.ProgramIRTranslator import IR_translator\n",
    "ir_translator = IR_translator()\n",
    "\n",
    "def gen_ir(i):\n",
    "    ir = ir_translator.program_to_ir(i)\n",
    "    for token in [\"<E>\",\"</E>\",\"<ES>\",\"</ES>\",\"<A>\",\"</A>\",\"<R>\",\"</R>\",\"<V>\",\"</V>\",\"<Q>\",\"</Q>\",\"<C>\",\"</C>\"]:\n",
    "        ir = ir.replace(\" {}\".format(token), token)\n",
    "        ir = ir.replace(\"{} \".format(token), token)\n",
    "    return ir"
   ]
  },
  {
   "cell_type": "code",
   "execution_count": null,
   "metadata": {},
   "outputs": [],
   "source": [
    "ir_list = []\n",
    "for point in train_program:\n",
    "    ir = gen_ir(point)\n",
    "    ir_list.append(ir)\n",
    "    "
   ]
  },
  {
   "cell_type": "code",
   "execution_count": null,
   "metadata": {},
   "outputs": [],
   "source": [
    "count, correct = 0, 0\n",
    "all_answers = []\n",
    "for batch in tqdm(data, total=len(data)):\n",
    "    source_ids, source_mask, choices, target_ids, answer = [x.to('cpu') for x in batch]\n",
    "    all_answers.extend(answer.cpu().numpy())\n",
    "    \n",
    "given_answer = [data.vocab['answer_idx_to_token'][a] for a in all_answers]"
   ]
  },
  {
   "cell_type": "code",
   "execution_count": null,
   "metadata": {},
   "outputs": [],
   "source": [
    "assert len(pred_list) == len(given_answer)\n",
    "len(pred_list), len(given_answer)"
   ]
  },
  {
   "cell_type": "code",
   "execution_count": null,
   "metadata": {},
   "outputs": [],
   "source": [
    "count, correct = 0, 0\n",
    "wrong_list = []\n",
    "for s, ir, d in tqdm(zip(pred_list, ir_list, train_data)):\n",
    "    pred_answer = get_sparql_answer(s, kb)\n",
    "    gold_answer = get_sparql_answer(d[\"sparql\"], kb)\n",
    "\n",
    "    is_match = whether_equal(gold_answer, pred_answer)\n",
    "    if is_match:\n",
    "        correct += 1\n",
    "    else:\n",
    "        wrong_list.append([d[\"sparql\"], s, ir, d[\"origin\"], d[\"program\"]])\n",
    "\n",
    "    count += 1\n",
    "\n",
    "acc = correct / count\n",
    "print('acc: {}'.format(acc))"
   ]
  },
  {
   "cell_type": "code",
   "execution_count": null,
   "metadata": {},
   "outputs": [],
   "source": [
    "count, correct "
   ]
  },
  {
   "cell_type": "code",
   "execution_count": null,
   "metadata": {},
   "outputs": [],
   "source": [
    "for i in wrong_list:\n",
    "    print(i[0])\n",
    "    print(i[1])\n",
    "    print(i[2])\n",
    "    print(i[3])\n",
    "    print('\\n')"
   ]
  },
  {
   "cell_type": "code",
   "execution_count": null,
   "metadata": {},
   "outputs": [],
   "source": [
    "for a, s in tqdm(zip(given_answer, pred_list)):\n",
    "    pred_answer = get_sparql_answer(s, kb)\n",
    "    \n",
    "    is_match = whether_equal(a, pred_answer)\n",
    "    if is_match:\n",
    "        correct += 1\n",
    "\n",
    "    count += 1\n",
    "\n",
    "acc = correct / count\n",
    "print('acc: {}'.format(acc))"
   ]
  }
 ],
 "metadata": {
  "interpreter": {
   "hash": "1f5681733fccbefcbca5a4e9f72189d3e93347784ed9242ac090fa102fe5e7d6"
  },
  "kernelspec": {
   "display_name": "Python 3.7.7 64-bit ('base': conda)",
   "name": "python3"
  },
  "language_info": {
   "codemirror_mode": {
    "name": "ipython",
    "version": 3
   },
   "file_extension": ".py",
   "mimetype": "text/x-python",
   "name": "python",
   "nbconvert_exporter": "python",
   "pygments_lexer": "ipython3",
   "version": "3.7.7"
  },
  "orig_nbformat": 4
 },
 "nbformat": 4,
 "nbformat_minor": 2
}
