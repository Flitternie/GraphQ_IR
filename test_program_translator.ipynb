{
 "cells": [
  {
   "cell_type": "code",
   "execution_count": 1,
   "metadata": {},
   "outputs": [],
   "source": [
    "import re\n",
    "import os\n",
    "import sys\n",
    "import json\n",
    "import random\n",
    "from importlib import reload\n",
    "\n",
    "random.seed(666)"
   ]
  },
  {
   "cell_type": "code",
   "execution_count": 2,
   "metadata": {},
   "outputs": [],
   "source": [
    "def get_program_seq(program):\n",
    "    seq = []\n",
    "    for item in program:\n",
    "        func = item['function']\n",
    "        inputs = item['inputs']\n",
    "        seq.append(func + '(' + '<c>'.join(inputs) + ')')\n",
    "    seq = '<b>'.join(seq)\n",
    "    return seq"
   ]
  },
  {
   "cell_type": "code",
   "execution_count": 11,
   "metadata": {},
   "outputs": [],
   "source": [
    "def get_sequence(program, idx):\n",
    "    func = program[idx]\n",
    "\n",
    "    if len(func['dependencies']) == 0:\n",
    "        seq = func['function'] + '()'\n",
    "        for arg in func['inputs']:\n",
    "            seq += '<c>'\n",
    "            seq += arg\n",
    "\n",
    "    elif len(func['dependencies']) == 1:\n",
    "        child_idx = func['dependencies'][0]\n",
    "        child_seq = get_sequence(program, child_idx)\n",
    "\n",
    "        current_seq = func['function']\n",
    "        current_seq += '('\n",
    "        for arg in func['inputs']:\n",
    "            current_seq += '<c>'\n",
    "            current_seq += arg\n",
    "        current_seq += ')'\n",
    "\n",
    "        seq = child_seq + '<s>' + current_seq\n",
    "\n",
    "    elif len(func['dependencies']) == 2:\n",
    "        left_idx = func['dependencies'][0]\n",
    "        left_seq = get_sequence(program, left_idx)\n",
    "        right_idx = func['dependencies'][1]\n",
    "        right_seq = get_sequence(program, right_idx)\n",
    "\n",
    "        current_seq = func['function']\n",
    "        current_seq += '('\n",
    "        for arg in func['inputs']:\n",
    "            current_seq += '<c>'\n",
    "            current_seq += arg\n",
    "        current_seq += ')'\n",
    "\n",
    "        if func['function'] in ['And', 'Or', 'SelectBetween'] and left_seq > right_seq:\n",
    "            seq = right_seq + '<s>' + left_seq + '<s>' + current_seq\n",
    "        else:\n",
    "            seq = left_seq + '<s>' + right_seq + '<s>' + current_seq\n",
    "    else:\n",
    "        raise ValueError(\"Functions are not allowed to have more than 2 dependencies\")\n",
    "\n",
    "    return seq"
   ]
  },
  {
   "cell_type": "code",
   "execution_count": 12,
   "metadata": {},
   "outputs": [],
   "source": [
    "# new data\n",
    "train_data = json.load(open(\"./data/kqapro/dataset_new/train.json\"))\n",
    "train_sparql = [item['sparql'] for item in train_data]\n",
    "train_program = [item['program'] for item in train_data]"
   ]
  },
  {
   "cell_type": "code",
   "execution_count": 13,
   "metadata": {},
   "outputs": [],
   "source": [
    "train_program_1 = [get_program_seq(item) for item in train_program]\n",
    "train_program_2 = [get_sequence(item, -1) for item in train_program]"
   ]
  },
  {
   "cell_type": "code",
   "execution_count": 15,
   "metadata": {},
   "outputs": [
    {
     "data": {
      "text/plain": [
       "('FindAll()<b>FilterStr(official website<c>http://www.thesiege.com/)<b>FilterConcept(visual artwork)<b>QueryAttrQualifier(publication date<c>1999-01-21<c>place of publication)',\n",
       " 'FindAll()<s>FilterStr(<c>official website<c>http://www.thesiege.com/)<s>FilterConcept(<c>visual artwork)<s>QueryAttrQualifier(<c>publication date<c>1999-01-21<c>place of publication)')"
      ]
     },
     "execution_count": 15,
     "metadata": {},
     "output_type": "execute_result"
    }
   ],
   "source": [
    "train_program_1[-1], train_program_2[-1]"
   ]
  },
  {
   "cell_type": "code",
   "execution_count": 4,
   "metadata": {},
   "outputs": [],
   "source": [
    "import KqaPro_Parser.program_v2.ProgramIRTranslator\n",
    "reload(KqaPro_Parser.program_v2.ProgramIRTranslator)\n",
    "from KqaPro_Parser.program_v2.ProgramIRTranslator import IR_translator\n",
    "translator = IR_translator()\n",
    "\n",
    "def gen_ir(i):\n",
    "    ir = translator.program_to_ir(i)\n",
    "    for token in [\"<E>\",\"</E>\",\"<ES>\",\"</ES>\",\"<A>\",\"</A>\",\"<R>\",\"</R>\",\"<V>\",\"</V>\",\"<Q>\",\"</Q>\",\"<C>\",\"</C>\"]:\n",
    "        ir = ir.replace(\" {}\".format(token), token)\n",
    "        ir = ir.replace(\"{} \".format(token), token)\n",
    "    return ir"
   ]
  },
  {
   "cell_type": "code",
   "execution_count": 5,
   "metadata": {},
   "outputs": [],
   "source": [
    "# cfq_parser = sparql_parser.KqaParser(train_sparql)\n",
    "ir_list = []\n",
    "for point in train_program:\n",
    "    try:\n",
    "        ir = gen_ir(point)\n",
    "        ir_list.append(ir)\n",
    "    except Exception:\n",
    "        print(get_program_seq(point))\n",
    "        raise Exception"
   ]
  },
  {
   "cell_type": "code",
   "execution_count": 6,
   "metadata": {},
   "outputs": [],
   "source": [
    "for i, t in zip(ir_list, train_data):\n",
    "    if \"the one whose\" in i:\n",
    "        print(i)\n",
    "        print(get_program_seq(t[\"program\"]))\n",
    "        print(t[\"origin\"])\n",
    "        print(t[\"answer\"])"
   ]
  },
  {
   "cell_type": "code",
   "execution_count": 5,
   "metadata": {},
   "outputs": [
    {
     "name": "stdout",
     "output_type": "stream",
     "text": [
      "FindAll()<b>FilterStr(TOID<c>4000000074573917)<b>FilterConcept(town)<b>FindAll()<b>FilterStr(OS grid reference<c>SP8778)<b>FilterConcept(town)<b>And()<b>What()\n",
      "\n",
      "\n",
      "what is<ES><ES><C>town</C>whose<A>TOID</A>is text<V>4000000074573917</V></ES>and<ES><C>town</C>whose<A>OS grid reference</A>is text<V>SP8778</V></ES></ES>\n"
     ]
    }
   ],
   "source": [
    "i = 0\n",
    "print(get_program_seq(train_program[i]))\n",
    "print(\"\\n\")\n",
    "ir = gen_ir(get_program_seq(train_program[i]))\n",
    "print(ir)"
   ]
  },
  {
   "cell_type": "code",
   "execution_count": 12,
   "metadata": {},
   "outputs": [],
   "source": [
    "def postprocess_ir(ir):\n",
    "    for token in [\"<E>\",\"</E>\",\"<ES>\",\"</ES>\",\"<A>\",\"</A>\",\"<R>\",\"</R>\",\"<V>\",\"</V>\",\"<Q>\",\"</Q>\",\"<C>\",\"</C>\"]:\n",
    "        ir = ir.replace(\" {}\".format(token), token)\n",
    "        ir = ir.replace(\"{} \".format(token), token)\n",
    "    return ir"
   ]
  },
  {
   "cell_type": "code",
   "execution_count": 13,
   "metadata": {},
   "outputs": [],
   "source": [
    "import KqaPro_Parser.ir.SparqlTranslator\n",
    "from KqaPro_Parser.ir.SparqlTranslator import Sparql_translator\n",
    "sparql_translator = Sparql_translator()"
   ]
  },
  {
   "cell_type": "code",
   "execution_count": 16,
   "metadata": {},
   "outputs": [
    {
     "data": {
      "text/plain": [
       "'SELECT DISTINCT ?e WHERE { ?e <pred:instance_of> ?c . ?c <pred:name> \"town\" . ?e <TOID> ?pv . ?pv <pred:value> \"4000000074573917\" . ?e <OS_grid_reference> ?pv_1 . ?pv_1 <pred:value> \"SP8778\" .  }'"
      ]
     },
     "execution_count": 16,
     "metadata": {},
     "output_type": "execute_result"
    }
   ],
   "source": [
    "sparql_translator.ir_to_sparql(postprocess_ir(ir))"
   ]
  }
 ],
 "metadata": {
  "interpreter": {
   "hash": "1f5681733fccbefcbca5a4e9f72189d3e93347784ed9242ac090fa102fe5e7d6"
  },
  "kernelspec": {
   "display_name": "Python 3.7.7 64-bit ('base': conda)",
   "name": "python3"
  },
  "language_info": {
   "codemirror_mode": {
    "name": "ipython",
    "version": 3
   },
   "file_extension": ".py",
   "mimetype": "text/x-python",
   "name": "python",
   "nbconvert_exporter": "python",
   "pygments_lexer": "ipython3",
   "version": "3.7.7"
  },
  "orig_nbformat": 4
 },
 "nbformat": 4,
 "nbformat_minor": 2
}
